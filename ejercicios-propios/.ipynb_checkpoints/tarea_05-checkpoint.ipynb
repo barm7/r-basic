{
 "cells": [
  {
   "cell_type": "markdown",
   "metadata": {},
   "source": [
    "# Tarea 5. Estruturas de datos en Python\n",
    "## Bryan Adolfo Ramos Morales"
   ]
  },
  {
   "cell_type": "markdown",
   "metadata": {},
   "source": [
    "### Ejercicio 1\n",
    "Crea una función que reciba los tres coeficientes $a$, $b$ y $c$ para resolver una ecuación de segundo grado.\n",
    "Muestre la solución por pantalla."
   ]
  },
  {
   "cell_type": "code",
   "execution_count": 1,
   "metadata": {},
   "outputs": [],
   "source": [
    "import math # Importamos la librería math para matemáticas\n",
    "import numpy as np # Librería numpy\n",
    "def cuadratica(a,b,c):\n",
    "    dis = math.sqrt(b**2-4*a*c)\n",
    "    s1 = (-b+dis)/(2*a)\n",
    "    s2 = (-b-dis)/(2*a)\n",
    "    return s1, s2"
   ]
  },
  {
   "cell_type": "code",
   "execution_count": 4,
   "metadata": {},
   "outputs": [
    {
     "data": {
      "text/plain": [
       "(-0.24169426078820835, -2.758305739211792)"
      ]
     },
     "execution_count": 4,
     "metadata": {},
     "output_type": "execute_result"
    }
   ],
   "source": [
    "cuadratica(3,9,2)"
   ]
  },
  {
   "cell_type": "markdown",
   "metadata": {},
   "source": [
    "### Ejercicio 2\n",
    "Crea una función que lea una frase del teclado y nos diga si es o no un palíndromo."
   ]
  },
  {
   "cell_type": "code",
   "execution_count": 8,
   "metadata": {},
   "outputs": [],
   "source": [
    "def palindromo(frase):\n",
    "    frase = frase.lower()\n",
    "    frase = frase.replace(' ', '')\n",
    "    acentos = {\n",
    "        'á':'a',\n",
    "        'é':'e',\n",
    "        'í':'i',\n",
    "        'ó':'o',\n",
    "        'ú':'u'\n",
    "    }\n",
    "    for key in acentos.keys():\n",
    "        frase = frase.replace(key, acentos[key])\n",
    "    return frase == frase[::-1]"
   ]
  },
  {
   "cell_type": "code",
   "execution_count": 9,
   "metadata": {},
   "outputs": [
    {
     "data": {
      "text/plain": [
       "True"
      ]
     },
     "execution_count": 9,
     "metadata": {},
     "output_type": "execute_result"
    }
   ],
   "source": [
    "palindromo(\"La ruta nos aportó otro paso natural\")"
   ]
  },
  {
   "cell_type": "code",
   "execution_count": 10,
   "metadata": {},
   "outputs": [
    {
     "data": {
      "text/plain": [
       "False"
      ]
     },
     "execution_count": 10,
     "metadata": {},
     "output_type": "execute_result"
    }
   ],
   "source": [
    "palindromo(\"Hola mundo\")"
   ]
  },
  {
   "cell_type": "markdown",
   "metadata": {},
   "source": [
    "### Ejercicio 3\n",
    "Crea un diccionario que tenga por claves los números del 1 al 10 y como valores sus raíces cuadradas."
   ]
  },
  {
   "cell_type": "code",
   "execution_count": 15,
   "metadata": {},
   "outputs": [
    {
     "data": {
      "text/plain": [
       "{1: 1.0,\n",
       " 2: 1.4142135623730951,\n",
       " 3: 1.7320508075688772,\n",
       " 4: 2.0,\n",
       " 5: 2.23606797749979,\n",
       " 6: 2.449489742783178,\n",
       " 7: 2.6457513110645907,\n",
       " 8: 2.8284271247461903,\n",
       " 9: 3.0,\n",
       " 10: 3.1622776601683795}"
      ]
     },
     "execution_count": 15,
     "metadata": {},
     "output_type": "execute_result"
    }
   ],
   "source": [
    "d = dict(zip(range(1,11), np.sqrt(range(1,11))))\n",
    "d"
   ]
  },
  {
   "cell_type": "markdown",
   "metadata": {},
   "source": [
    "### Ejercicio 4"
   ]
  },
  {
   "cell_type": "markdown",
   "metadata": {},
   "source": [
    "Crea un diccionario que tenga como claves las letras del alfabeto castellano y como valores los símbolos del código morse. Crea un programa que lea una frase del teclado y la convierta a Morse con el diccionario anterior."
   ]
  },
  {
   "cell_type": "code",
   "execution_count": 5,
   "metadata": {},
   "outputs": [],
   "source": [
    "alfabeto = {\n",
    "    \"A\" : \".-\",\n",
    "    \"B\" : \"_...\",\n",
    "    \"C\" : \"_._.\",\n",
    "    \"CH\" : \"____\",\n",
    "    \"D\" : \"_..\",\n",
    "    \"E\" : \".\",\n",
    "    \"F\" : \".._.\",\n",
    "    \"G\" : \"__.\",\n",
    "    \"H\" : \"....\",\n",
    "    \"I\" : \"..\",\n",
    "    \"J\" : \".____\",\n",
    "    \"K\" : \"_._\",\n",
    "    \"L\" : \"._..\",\n",
    "    \"M\" : \"__\",\n",
    "    \"N\" : \"_.\",\n",
    "    \"Ñ\" : \"__.__\",\n",
    "    \"O\" : \"___\",\n",
    "    \"P\" : \".__.\",\n",
    "    \"Q\" : \"__._\",\n",
    "    \"R\" : \"._.\",\n",
    "    \"S\" : \"...\",\n",
    "    \"T\" : \"_\",\n",
    "    \"U\" : \".._\",\n",
    "    \"V\" : \"..._\",\n",
    "    \"W\" : \".__\",\n",
    "    \"X\" : \"_.._\",\n",
    "    \"Y\" : \"_.__\",\n",
    "    \"Z\" : \"__..\",\n",
    "    \" \" : \"/\"\n",
    "}\n",
    "\n",
    "acentos = {\n",
    "    \"Á\" : \"A\",\n",
    "    \"É\" : \"E\",\n",
    "    \"Í\" : \"I\",\n",
    "    \"Ó\" : \"O\",\n",
    "    \"Ú\" : \"U\"\n",
    "}\n",
    "\n",
    "def morse(frase):\n",
    "    nfrase = \"\"\n",
    "    \n",
    "    frase = frase.upper()\n",
    "    for key in acentos.keys():\n",
    "        frase = frase.replace(key, acentos[key])\n",
    "    l = list(frase);\n",
    "        \n",
    "    for let in l:\n",
    "        nfrase = nfrase + alfabeto[let] + \"\"\n",
    "    print(nfrase)"
   ]
  },
  {
   "cell_type": "code",
   "execution_count": 7,
   "metadata": {},
   "outputs": [
    {
     "name": "stdout",
     "output_type": "stream",
     "text": [
      "__../_.______...._../..../_...._._.__.-_.\n"
     ]
    }
   ],
   "source": [
    "morse(\"Mi nombre es Bryan\")"
   ]
  },
  {
   "cell_type": "markdown",
   "metadata": {},
   "source": [
    "## Ejercicio 5\n",
    "Crea una función que dados dos diccionarios nos diga qué claves están presentes en ambos"
   ]
  },
  {
   "cell_type": "code",
   "execution_count": 10,
   "metadata": {},
   "outputs": [],
   "source": [
    "def claves(d1,d2):\n",
    "    keys_c = []\n",
    "    keys1 = list(d1)\n",
    "    keys2 = list(d2)\n",
    "    \n",
    "    for i in range(0,len(keys1)):\n",
    "        if keys1[i] in keys2:\n",
    "            keys_c.append(keys1[i])\n",
    "    return keys_c\n",
    "\n",
    "dic = dict(A=1, B=2)\n",
    "dic2 = dict(C=5, A=4)"
   ]
  },
  {
   "cell_type": "code",
   "execution_count": 11,
   "metadata": {},
   "outputs": [
    {
     "data": {
      "text/plain": [
       "['A']"
      ]
     },
     "execution_count": 11,
     "metadata": {},
     "output_type": "execute_result"
    }
   ],
   "source": [
    "claves(dic,dic2)"
   ]
  },
  {
   "cell_type": "markdown",
   "metadata": {},
   "source": [
    "## Ejercicio 6\n",
    "Crea una función que dado un número $N$ nos diga si es primo o no (tiene que ir dividiendo por todos los números x comprendidos entre dos y el propio número $N$ menos uno y ver si el cociente $\\frac{N}{x}$ tiene resto entero o no."
   ]
  },
  {
   "cell_type": "code",
   "execution_count": 6,
   "metadata": {},
   "outputs": [],
   "source": [
    "def primo(n):\n",
    "    for i in range (2,n-1):\n",
    "        if n % i == 0:\n",
    "            return False\n",
    "        return True"
   ]
  },
  {
   "cell_type": "code",
   "execution_count": 11,
   "metadata": {},
   "outputs": [
    {
     "data": {
      "text/plain": [
       "False"
      ]
     },
     "execution_count": 11,
     "metadata": {},
     "output_type": "execute_result"
    }
   ],
   "source": [
    "primo(144)"
   ]
  },
  {
   "cell_type": "code",
   "execution_count": null,
   "metadata": {},
   "outputs": [],
   "source": []
  }
 ],
 "metadata": {
  "kernelspec": {
   "display_name": "Python 3",
   "language": "python",
   "name": "python3"
  },
  "language_info": {
   "codemirror_mode": {
    "name": "ipython",
    "version": 3
   },
   "file_extension": ".py",
   "mimetype": "text/x-python",
   "name": "python",
   "nbconvert_exporter": "python",
   "pygments_lexer": "ipython3",
   "version": "3.8.8"
  }
 },
 "nbformat": 4,
 "nbformat_minor": 4
}
