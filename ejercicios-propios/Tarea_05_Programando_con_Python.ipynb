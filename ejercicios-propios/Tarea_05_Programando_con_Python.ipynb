{
 "cells": [
  {
   "cell_type": "markdown",
   "metadata": {},
   "source": [
    "# Tarea 5 Programando con Python\n",
    "## Ejercicio 1\n",
    "Crea una función que reciba los tres coeficientes $a$, $b$ y $c$ para resolver una ecuación de segundo grado. Muestre la solución por pantalla."
   ]
  },
  {
   "cell_type": "code",
   "execution_count": 1,
   "metadata": {},
   "outputs": [],
   "source": [
    "import math\n",
    "def cuadratica(a,b,c):\n",
    "    x_1 = (-b+math.sqrt(b**2-4*a*c))/(2*a)\n",
    "    x_2 = (-b-math.sqrt(b**2-4*a*c))/(2*a)\n",
    "    return (x_1, x_2)"
   ]
  },
  {
   "cell_type": "code",
   "execution_count": 8,
   "metadata": {},
   "outputs": [],
   "source": [
    "[x_1,x_2] = cuadratica(30,90,3)"
   ]
  },
  {
   "cell_type": "code",
   "execution_count": 10,
   "metadata": {},
   "outputs": [
    {
     "name": "stdout",
     "output_type": "stream",
     "text": [
      "El valor de la variable x_1 es -0.033712170138481906\n",
      "El valor de lavariable x_2 es -2.966287829861518\n"
     ]
    }
   ],
   "source": [
    "print('El valor de la variable x_1 es '+str(x_1))\n",
    "print('El valor de lavariable x_2 es '+str(x_2))"
   ]
  },
  {
   "cell_type": "code",
   "execution_count": null,
   "metadata": {},
   "outputs": [],
   "source": []
  }
 ],
 "metadata": {
  "kernelspec": {
   "display_name": "Python 3",
   "language": "python",
   "name": "python3"
  },
  "language_info": {
   "codemirror_mode": {
    "name": "ipython",
    "version": 3
   },
   "file_extension": ".py",
   "mimetype": "text/x-python",
   "name": "python",
   "nbconvert_exporter": "python",
   "pygments_lexer": "ipython3",
   "version": "3.8.3"
  }
 },
 "nbformat": 4,
 "nbformat_minor": 4
}
